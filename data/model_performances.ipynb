{
 "cells": [
  {
   "cell_type": "code",
   "execution_count": null,
   "id": "5a579c78",
   "metadata": {},
   "outputs": [],
   "source": [
    "from torch.utils.data import DataLoader, random_split, Subset\n",
    "import torch\n",
    "import numpy as np\n",
    "\n",
    "from data.dataset import Dataset\n",
    "dataset_path = \"data/processed/\"\n",
    "full = Dataset(\n",
    "            dataset_path,\n",
    "            \"train_val_gpt_aug\",\n",
    "            transforms=test_transform,   # no augmentations for the split\n",
    "            metadata=metadata,\n",
    "        )\n"
   ]
  }
 ],
 "metadata": {
  "kernelspec": {
   "display_name": ".venv",
   "language": "python",
   "name": "python3"
  },
  "language_info": {
   "name": "python",
   "version": "3.11.11"
  }
 },
 "nbformat": 4,
 "nbformat_minor": 5
}
